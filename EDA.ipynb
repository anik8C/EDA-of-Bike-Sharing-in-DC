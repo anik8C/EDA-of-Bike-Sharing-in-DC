{
 "cells": [
  {
   "cell_type": "markdown",
   "id": "ed731d16",
   "metadata": {},
   "source": [
    "Viewing Sample data and performing Preprocessing if required"
   ]
  },
  {
   "cell_type": "code",
   "execution_count": null,
   "id": "a41af625",
   "metadata": {},
   "outputs": [],
   "source": [
    "import numpy as np\n",
    "import pandas as pd\n",
    "import matplotlib.pyplot as plt\n",
    "import seaborn as sns\n",
    "\n",
    "df = pd.read_excel(\"/Users/ani/Desktop/Python_Project/WDC Bike Sharing EDA /day.xls\")\n",
    "print(df.head())\n",
    "print(df.isnull().sum())"
   ]
  },
  {
   "cell_type": "markdown",
   "id": "04d92283",
   "metadata": {},
   "source": [
    "Summary of the dataset"
   ]
  },
  {
   "cell_type": "code",
   "execution_count": null,
   "id": "194fb607",
   "metadata": {},
   "outputs": [],
   "source": [
    "df.info()\n",
    "df.describe()\n"
   ]
  },
  {
   "cell_type": "markdown",
   "id": "1ca20ffb",
   "metadata": {},
   "source": [
    "Checking for outliers in the dataset and exploring the patterns in the outliers if there are any"
   ]
  },
  {
   "cell_type": "code",
   "execution_count": null,
   "id": "7a508411",
   "metadata": {},
   "outputs": [],
   "source": [
    "# For Casual users\n",
    "\n",
    "\n",
    "sns.boxplot(data=df, x = \"Casual\" )\n",
    "\n",
    "plt.xlabel(\"Rentals per day\")\n",
    "plt.title(\"Casual rentals\")\n",
    "plt.grid()\n",
    "plt.show()\n",
    "\n",
    "sns.boxplot(data=df, x = \"Registered\" )\n",
    "\n",
    "plt.xlabel(\"Rentals per day\")\n",
    "# plt.ylabel(\"Rentals per day\")\n",
    "plt.title(\"Registered rentals\")\n",
    "plt.grid()\n",
    "plt.show()\n",
    "\n",
    "# print(\"***** For Casual Users *****\")\n",
    "\n",
    "fig0, axs0 = plt.subplots(2,3, figsize = (18, 12))\n",
    "\n",
    "xval = [\"Workingday\", \"Holiday\", \"Weekday\", \"Weather\", \"Season\"]\n",
    "idx = 0\n",
    "\n",
    "\n",
    "for r in range(0,2):\n",
    "    for c in range(0,3):\n",
    "        if(idx<5):\n",
    "            sns.boxplot(data=df, x = xval[idx], y = \"Casual\",ax = axs0[r][c])\n",
    "            \n",
    "            axs0[r][c].set_xlabel(xval[idx])\n",
    "            axs0[r][c].set_ylabel(\"Rentals per day\")\n",
    "            axs0[r][c].set_title(\"Casual rentals for \" + xval[idx])\n",
    "            \n",
    "            idx = idx + 1\n",
    "\n",
    "        else:\n",
    "            break\n",
    "        \n",
    "plt.axis(\"off\")\n",
    "plt.tight_layout()\n",
    "plt.show()\n",
    "            \n",
    "\n",
    "\n",
    "\n",
    "# For Registered Users\n",
    "\n",
    "# print(\"***** For Registered Users *****\")\n",
    "\n",
    "# for xaxis in [\"Holiday\", \"Weekday\", \"Weather\", \"Season\"]:\n",
    "\n",
    "#     sns.boxplot(data=df, x = xaxis, y=\"Registered\")\n",
    "#     plt.xlabel(xaxis)\n",
    "#     plt.ylabel(\"Rentals per day\")\n",
    "#     plt.title(\"Registered rentals for \" + xaxis)\n",
    "#     plt.grid()\n",
    "#     plt.show()\n"
   ]
  },
  {
   "cell_type": "markdown",
   "id": "fa2153d2",
   "metadata": {},
   "source": [
    "BarSubplots"
   ]
  },
  {
   "cell_type": "code",
   "execution_count": null,
   "id": "2e0ac030",
   "metadata": {},
   "outputs": [],
   "source": [
    "\n",
    "\n",
    "fig, axs = plt.subplots(3,3,figsize=(15, 12))\n",
    "\n",
    "#--------Total--------\n",
    "\n",
    "sns.barplot(data = df, x = \"Season\", y = \"Total Rented\", ax = axs[0,0])\n",
    "axs[0,0].set_title('Average Bike Rentals per Season (Total)')\n",
    "axs[0,0].set_xlabel(\"Season\")\n",
    "axs[0,0].set_ylabel('Average Rentals')\n",
    "# plt.show()\n",
    "\n",
    "sns.barplot(data = df, x = \"Workingday\", y = \"Total Rented\", ax = axs[0,1])\n",
    "axs[0,1].set_title('Average Bike Rentals per Workingday (Total)')\n",
    "axs[0,1].set_xlabel(\"Workingday\")\n",
    "axs[0,1].set_ylabel('Average Rentals')\n",
    "# plt.show()\n",
    "\n",
    "sns.barplot(data = df, x = \"Weather\", y = \"Total Rented\", ax = axs[0,2])\n",
    "axs[0,2].set_title('Average Bike Rentals in each Weather (Total)')\n",
    "axs[0,2].set_xlabel(\"Weather\")\n",
    "axs[0,2].set_ylabel('Average Rentals')\n",
    "# plt.show()\n",
    "\n",
    "\n",
    "#---------Casual-----------\n",
    "\n",
    "sns.barplot(data = df, x = \"Season\", y = \"Casual\", ax = axs[1,0], estimator=np.median)\n",
    "axs[1,0].set_title('Average Bike Rentals per Season (Casual)')\n",
    "axs[1,0].set_xlabel(\"Season\")\n",
    "axs[1,0].set_ylabel('Average Rentals')\n",
    "# plt.show()\n",
    "\n",
    "sns.barplot(data = df, x = \"Workingday\", y = \"Casual\", ax = axs[1,1], estimator=np.median)\n",
    "axs[1,1].set_title('Average Bike Rentals per Workingday (Casual)')\n",
    "axs[1,1].set_xlabel(\"Workingday\")\n",
    "axs[1,1].set_ylabel('Average Rentals')\n",
    "# plt.show()\n",
    "\n",
    "sns.barplot(data = df, x = \"Weather\", y = \"Casual\", ax = axs[1,2], estimator=np.median)\n",
    "axs[1,2].set_title('Average Bike Rentals in each Weather (Casual)')\n",
    "axs[1,2].set_xlabel(\"Weather\")\n",
    "axs[1,2].set_ylabel('Average Rentals')\n",
    "# plt.show()\n",
    "\n",
    "#-------Registered----------\n",
    "\n",
    "sns.barplot(data = df, x = \"Season\", y = \"Registered\", ax = axs[2,0])\n",
    "axs[2,0].set_title('Average Bike Rentals per Season (Registered)')\n",
    "axs[2,0].set_xlabel(\"Season\")\n",
    "axs[2,0].set_ylabel('Average Rentals')\n",
    "# plt.show()\n",
    "\n",
    "sns.barplot(data = df, x = \"Workingday\", y = \"Registered\",ax = axs[2,1])\n",
    "axs[2,1].set_title('Average Bike Rentals per Workingday (Registered)')\n",
    "axs[2,1].set_xlabel(\"Workingday\")\n",
    "axs[2,1].set_ylabel('Average Rentals')\n",
    "# plt.show()\n",
    "\n",
    "sns.barplot(data = df, x = \"Weather\", y = \"Registered\", ax = axs[2,2])\n",
    "axs[2,2].set_title('Average Bike Rentals in each Weather (Registered)')\n",
    "axs[2,2].set_xlabel(\"Weather\")\n",
    "axs[2,2].set_ylabel('Average Rentals')\n",
    "# plt.show()\n",
    "\n",
    "plt.tight_layout()\n",
    "plt.show()\n"
   ]
  },
  {
   "cell_type": "markdown",
   "id": "83841509",
   "metadata": {},
   "source": [
    "Using Pie Chart to show the share of Casual and Registered Users in the Total bike rentals in year 2011 and 2012"
   ]
  },
  {
   "cell_type": "code",
   "execution_count": 27,
   "id": "3d83f243",
   "metadata": {},
   "outputs": [
    {
     "data": {
      "image/png": "[encoded data removed]",
      "text/plain": [
       "<Figure size 640x480 with 1 Axes>"
      ]
     },
     "metadata": {},
     "output_type": "display_data"
    }
   ],
   "source": [
    "values = [df[\"Casual\"].sum(), df[\"Registered\"].sum()]\n",
    "lbl = (\"Casual Users\", \"Registered Users\")\n",
    "\n",
    "plt.pie(values, labels = lbl, autopct = \"%.1f%%\")\n",
    "plt.title(\"Share of Casual vs Registered Users\")\n",
    "plt.show()"
   ]
  }
 ],
 "metadata": {
  "kernelspec": {
   "display_name": "Python 3",
   "language": "python",
   "name": "python3"
  },
  "language_info": {
   "codemirror_mode": {
    "name": "ipython",
    "version": 3
   },
   "file_extension": ".py",
   "mimetype": "text/x-python",
   "name": "python",
   "nbconvert_exporter": "python",
   "pygments_lexer": "ipython3",
   "version": "3.13.1"
  }
 },
 "nbformat": 4,
 "nbformat_minor": 5
}
