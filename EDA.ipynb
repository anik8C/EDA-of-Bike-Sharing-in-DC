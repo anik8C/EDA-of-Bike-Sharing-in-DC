{
 "cells": [
  {
   "cell_type": "markdown",
   "id": "ed731d16",
   "metadata": {},
   "source": [
    "Viewing Sample data and performing Preprocessing if required"
   ]
  },
  {
   "cell_type": "code",
   "execution_count": 20,
   "id": "a41af625",
   "metadata": {},
   "outputs": [
    {
     "name": "stdout",
     "output_type": "stream",
     "text": [
      "   instant       Date  Season  Year  Month Holiday    Weekday  Workingday  \\\n",
      "0        1 2011-01-01  Spring  2011      1      No   Saturday           0   \n",
      "1        2 2011-01-02  Spring  2011      1      No     Sunday           0   \n",
      "2        3 2011-01-03  Spring  2011      1      No     Monday           1   \n",
      "3        4 2011-01-04  Spring  2011      1      No    Tuesday           1   \n",
      "4        5 2011-01-05  Spring  2011      1      No  Wednesday           1   \n",
      "\n",
      "               Weather       Temp     Atemp  Humidity  Windspeed  Casual  \\\n",
      "0          Mist/Cloudy  14.110847  18.18125   80.5833  10.749882     331   \n",
      "1          Mist/Cloudy  14.902598  17.68695   69.6087  16.652113     131   \n",
      "2  Clear/Partly Cloudy   8.050924   9.47025   43.7273  16.636703     120   \n",
      "3  Clear/Partly Cloudy   8.200000  10.60610   59.0435  10.739832     108   \n",
      "4  Clear/Partly Cloudy   9.305237  11.46350   43.6957  12.522300      82   \n",
      "\n",
      "   Registered  Total Rented  \n",
      "0         654           985  \n",
      "1         670           801  \n",
      "2        1229          1349  \n",
      "3        1454          1562  \n",
      "4        1518          1600  \n"
     ]
    }
   ],
   "source": [
    "import pandas as pd\n",
    "import matplotlib as plt\n",
    "\n",
    "df = pd.read_excel(\"/Users/ani/Desktop/Python_Project/WDC Bike Sharing EDA /day.xls\")\n",
    "print(df.head())\n"
   ]
  },
  {
   "cell_type": "markdown",
   "id": "04d92283",
   "metadata": {},
   "source": [
    "Summary of the dataset"
   ]
  },
  {
   "cell_type": "code",
   "execution_count": null,
   "id": "194fb607",
   "metadata": {},
   "outputs": [],
   "source": [
    "df.info()\n",
    "df.describe()\n"
   ]
  },
  {
   "cell_type": "code",
   "execution_count": null,
   "id": "7a508411",
   "metadata": {},
   "outputs": [],
   "source": []
  }
 ],
 "metadata": {
  "kernelspec": {
   "display_name": "Python 3",
   "language": "python",
   "name": "python3"
  },
  "language_info": {
   "codemirror_mode": {
    "name": "ipython",
    "version": 3
   },
   "file_extension": ".py",
   "mimetype": "text/x-python",
   "name": "python",
   "nbconvert_exporter": "python",
   "pygments_lexer": "ipython3",
   "version": "3.13.1"
  }
 },
 "nbformat": 4,
 "nbformat_minor": 5
}
